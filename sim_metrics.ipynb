{
 "cells": [
  {
   "cell_type": "markdown",
   "metadata": {},
   "source": [
    "## 背景\n",
    "\n",
    "- **集体智慧**：为了创造新的想法，而将一群人的行为、偏好或思想组合在一起。\n",
    "- **机器学习的局限**：机器学习算法受限于其在大量模式之上的归纳能力，且只能凭借已经见过的数据进行归纳。如果一个模式不同于算法先前所见的任何其他模式，那么它很有可能会被“误解”。\n",
    "- **协作性过滤**：一个协作性过滤算法通常的做法是对一大群人进行搜索，并从中找出与我们品味相近的一群人。"
   ]
  },
  {
   "cell_type": "markdown",
   "metadata": {},
   "source": [
    "## 搜集偏好\n",
    "\n",
    "下面是一个涉及影评者及其对几部电影评分情况的字典："
   ]
  },
  {
   "cell_type": "code",
   "execution_count": 15,
   "metadata": {},
   "outputs": [
    {
     "name": "stdout",
     "output_type": "stream",
     "text": [
      "{'Lisa Rose': {'Lady in the Water': 2.5, 'Snakes on a Plane': 3.5, 'Just My Luck': 3.0, 'Superman Returns': 3.5, 'You, Me and Dupree': 2.5, 'The Night Listener': 3.0}, 'Gene Seymour': {'Lady in the Water': 3.0, 'Snakes on a Plane': 3.5, 'Just My Luck': 1.5, 'Superman Returns': 5.0, 'The Night Listener': 3.0, 'You, Me and Dupree': 3.5}, 'Michael Phillips': {'Lady in the Water': 2.5, 'Snakes on a Plane': 3.0, 'Superman Returns': 3.5, 'The Night Listener': 4.0}, 'Claudia Puig': {'Snakes on a Plane': 3.5, 'Just My Luck': 3.0, 'The Night Listener': 4.5, 'Superman Returns': 4.0, 'You, Me and Dupree': 2.5}, 'Mick LaSalle': {'Lady in the Water': 3.0, 'Snakes on a Plane': 4.0, 'Just My Luck': 2.0, 'Superman Returns': 3.0, 'The Night Listener': 3.0, 'You, Me and Dupree': 2.0}, 'Jack Matthews': {'Lady in the Water': 3.0, 'Snakes on a Plane': 4.0, 'The Night Listener': 3.0, 'Superman Returns': 5.0, 'You, Me and Dupree': 3.5}, 'Toby': {'Snakes on a Plane': 4.5, 'You, Me and Dupree': 1.0, 'Superman Returns': 4.0}}\n",
      "\n",
      "Lisa Rose 对 Lady in the Water 的评分： 2.5\n",
      "\n",
      "Toby 评价过的电影及评分： {'Snakes on a Plane': 4.5, 'You, Me and Dupree': 1.0, 'Superman Returns': 4.0}\n"
     ]
    }
   ],
   "source": [
    "from recommendations import critics\n",
    "print(critics)\n",
    "print(\"\\nLisa Rose 对 Lady in the Water 的评分：\",critics['Lisa Rose']['Lady in the Water'])\n",
    "print(\"\\nToby 评价过的电影及评分：\", critics['Toby'])"
   ]
  },
  {
   "cell_type": "markdown",
   "metadata": {},
   "source": [
    "## 寻找相近的用户\n",
    "搜集完人们的偏好数据之后，我们需要有一种方法来确定人们在品味方面的相似程度。为此，我们可以将每个人与所有其他人进行对比，并计算他们的**相似度评价值**。两套常用的计算相似度评价值的体系：**欧几里得距离**和**皮尔逊相关度**。\n",
    "\n",
    "- **欧氏距离**：介绍略"
   ]
  },
  {
   "cell_type": "code",
   "execution_count": 24,
   "metadata": {},
   "outputs": [],
   "source": [
    "# 通过欧氏距离计算两个人相似度评价的函数\n",
    "from math import sqrt\n",
    "def sim_distance(prefs, p1, p2):\n",
    "    # 如果两人没有共同项，返回0\n",
    "    sim = []\n",
    "    for item in prefs[p1]:\n",
    "        if item in prefs[p2]:\n",
    "            sim.append(item)\n",
    "            \n",
    "    if len(sim) == 0:\n",
    "        return 0\n",
    "    \n",
    "    # 计算欧氏距离\n",
    "    distance = sqrt(sum([pow(prefs[p1][item]-prefs[p2][item], 2) for item in sim]))\n",
    "    return 1/(1+distance) # 防止除数为0"
   ]
  },
  {
   "cell_type": "code",
   "execution_count": 25,
   "metadata": {},
   "outputs": [
    {
     "data": {
      "text/plain": [
       "0.29429805508554946"
      ]
     },
     "execution_count": 25,
     "metadata": {},
     "output_type": "execute_result"
    }
   ],
   "source": [
    "sim_distance(critics, 'Lisa Rose', 'Gene Seymour')"
   ]
  },
  {
   "cell_type": "markdown",
   "metadata": {},
   "source": [
    "- **皮尔逊相关度**\n",
    "\n",
    "该相关系数是判断两组数据与某一直线拟合程度的一种度量。它在数据不是很规范（normalized）的时候（比如，影评者对影片的评价总是相对于平均水平偏离很大时），会倾向于给出更好的结果。"
   ]
  },
  {
   "cell_type": "code",
   "execution_count": 26,
   "metadata": {},
   "outputs": [],
   "source": [
    "# 通过皮尔逊相关系数计算相似度\n",
    "def sim_pearson(prefs, p1, p2):\n",
    "    # 如果两人没有共同项，返回1\n",
    "    sim = []\n",
    "    for item in prefs[p1]:\n",
    "        if item in prefs[p2]:\n",
    "            sim.append(item)\n",
    "    \n",
    "    n = len(sim)\n",
    "    if n == 0:\n",
    "        return 1\n",
    "    \n",
    "    # 求和\n",
    "    sum1 = sum([prefs[p1][item] for item in sim])\n",
    "    sum2 = sum([prefs[p2][item] for item in sim])\n",
    "    \n",
    "    # 求平方和\n",
    "    sum1_sq = sum([pow(prefs[p1][item], 2) for item in sim])\n",
    "    sum2_sq = sum([pow(prefs[p2][item], 2) for item in sim])\n",
    "    \n",
    "    # 求乘积之和\n",
    "    p_sum = sum([prefs[p1][item]*prefs[p2][item] for item in sim])\n",
    "    \n",
    "    # 计算相关系数\n",
    "    num = p_sum - (sum1*sum2/n)\n",
    "    den = sqrt((sum1_sq-pow(sum1,2)/n)*(sum2_sq-pow(sum2,2)/n))\n",
    "    \n",
    "    if den==0:\n",
    "        return 0\n",
    "    r = num/den\n",
    "    return r"
   ]
  },
  {
   "cell_type": "code",
   "execution_count": 28,
   "metadata": {},
   "outputs": [
    {
     "data": {
      "text/plain": [
       "0.39605901719066977"
      ]
     },
     "execution_count": 28,
     "metadata": {},
     "output_type": "execute_result"
    }
   ],
   "source": [
    "sim_pearson(critics, 'Lisa Rose', 'Gene Seymour')"
   ]
  },
  {
   "cell_type": "markdown",
   "metadata": {},
   "source": [
    "## 为评论者打分\n",
    "既然已经有了对两个人进行比较的函数，下面可以编写函数，根据指定的人对每个人进行打分，并找出最接近的匹配结果。"
   ]
  },
  {
   "cell_type": "code",
   "execution_count": 37,
   "metadata": {},
   "outputs": [],
   "source": [
    "def topMatches(prefs, person, n=5, sim_func=sim_pearson):\n",
    "    '''\n",
    "    perfs: 偏好字典\n",
    "    n: 返回最接近的n个结果\n",
    "    sim_func: 评价函数\n",
    "    '''\n",
    "    # 返回（相似度，名字）的元组\n",
    "    scores = [(sim_func(prefs, person, other), other) for other in prefs if other != person] \n",
    "    scores.sort()\n",
    "    scores.reverse()\n",
    "    return scores[:n]"
   ]
  },
  {
   "cell_type": "code",
   "execution_count": 38,
   "metadata": {},
   "outputs": [
    {
     "data": {
      "text/plain": [
       "[(0.9912407071619299, 'Lisa Rose'),\n",
       " (0.9244734516419049, 'Mick LaSalle'),\n",
       " (0.8934051474415647, 'Claudia Puig')]"
      ]
     },
     "execution_count": 38,
     "metadata": {},
     "output_type": "execute_result"
    }
   ],
   "source": [
    "topMatches(critics, 'Toby', n=3)"
   ]
  },
  {
   "cell_type": "code",
   "execution_count": null,
   "metadata": {},
   "outputs": [],
   "source": []
  }
 ],
 "metadata": {
  "kernelspec": {
   "display_name": "Python 3",
   "language": "python",
   "name": "python3"
  },
  "language_info": {
   "codemirror_mode": {
    "name": "ipython",
    "version": 3
   },
   "file_extension": ".py",
   "mimetype": "text/x-python",
   "name": "python",
   "nbconvert_exporter": "python",
   "pygments_lexer": "ipython3",
   "version": "3.6.8"
  }
 },
 "nbformat": 4,
 "nbformat_minor": 2
}
